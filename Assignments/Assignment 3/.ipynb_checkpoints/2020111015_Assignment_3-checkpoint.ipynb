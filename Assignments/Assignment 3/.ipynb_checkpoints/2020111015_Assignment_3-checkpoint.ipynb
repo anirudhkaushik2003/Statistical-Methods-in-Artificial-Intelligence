{
 "cells": [
  {
   "cell_type": "markdown",
   "id": "d9d1724f",
   "metadata": {},
   "source": [
    "# Decision Trees"
   ]
  },
  {
   "cell_type": "markdown",
   "id": "46240d43",
   "metadata": {},
   "source": [
    "#### Instructions:\n",
    "- Write modular code with relevant docstrings and comments for you to be able to use\n",
    "functions you have implemented in future assignments.\n",
    "- All theory questions and observations must be written in a markdown cell of your jupyter notebook.You can alsoadd necessary images in `imgs/` and then include it in markdown. Any other submission method for theoretical question won't be entertained.\n",
    "- Start the assignment early, push your code regularly and enjoy learning!"
   ]
  },
  {
   "attachments": {
    "DecisionTreeQ1.png": {
     "image/png": "[encoded data removed]"
    }
   },
   "cell_type": "markdown",
   "id": "b31d6a65",
   "metadata": {},
   "source": [
    "### Question 1 Optimal DT from table\n",
    "**[20 points]**\\\n",
    "We will use the dataset below to learn a decision tree which predicts if people pass machine\n",
    "learning (Yes or No), based on their previous GPA (High, Medium, or Low) and whether or\n",
    "not they studied. \n",
    "\n",
    "| GPA | Studied | Passed |\n",
    "|:---:|:-------:|:------:|\n",
    "|  L  |    F    |    F   |\n",
    "|  L  |    T    |    T   |\n",
    "|  M  |    F    |    F   |\n",
    "|  M  |    T    |    T   |\n",
    "|  H  |    F    |    T   |\n",
    "|  H  |    T    |    T   |\n",
    "    \n",
    " For this problem, you can write your answers using $log_2$\n",
    ", but it may be helpful to note\n",
    "that $log_2 3 ≈ 1.6$.\n",
    "\n",
    "---\n",
    "1. What is the entropy H(Passed)?\n",
    " - For the passed category, there are only 2 classes, True and False.\n",
    " \n",
    "$$\n",
    "    H(Passed) = -\\sum_{i=1}^{2}P_i log_2P_i \\\\\n",
    "        = -(P_1log_2P_1 + P_2log_2P_2) \\\\\n",
    "        P_1 = probability\\ of\\ outcome\\ being\\ True = \\frac{Number\\ of\\ times\\ True \\ Occurs}{Total\\ Number\\ of\\ Cases} = \\frac{4}{6} = \\frac{2}{3} \\\\\n",
    "     P_2 = probability\\ of\\ outcome\\ being\\ False = \\frac{Number\\ of\\ times\\ False \\ Occurs}{Total\\ Number\\ of\\ Cases} = \\frac{1}{3} \\\\\n",
    "     \\implies H(passed) = -(\\frac{2}{3}log_2\\frac{2}{3} + \\frac{1}{3}log_2\\frac{1}{3}) \\\\\n",
    "     = -(\\frac{2}{3}(1-1.6) + \\frac{1}{3}(0-1.6)) \\\\\n",
    "     = -((-0.4) + (-0.533)) \\\\\n",
    "     = 0.9333\n",
    "$$\n",
    "\n",
    "2. What is the entropy H(Passed | GPA)?\n",
    " - To find entropy of Passed given GPA, we simply need to recalculate the probabilities such that they reflect the prior probabilities of Passed given GPA.\n",
    " \n",
    " $$\n",
    "    H(Passed | GPA) = \\sum_{i=L,M,H} p(i)* H(Passed|i) \\\\\n",
    "    \\implies \\ H(passed | GPA) = p(L)(H(True | L) + H(False|L)) + p(M)(H(True | M) + H(False|M)) + p(H)(H(True | H) + H(False|H)) \\\\\n",
    "        H(Passed | L) = (p(Passed =True | L)log_2p(Passed =True | L) + p(Passed =False | L)log_2p(Passed =False | L)) \\\\ \n",
    "        H(Passed | M) = (p(Passed =True | M)log_2p(Passed =True | M) + p(Passed =False | M)log_2p(Passed =False | M)) \\\\\n",
    "        H(Passed | H) = (p(Passed =True | H)log_2p(Passed =True | H) + p(Passed =False | H)log_2p(Passed =False | H)) \\\\\n",
    " $$\n",
    " Now, \n",
    " $$\n",
    "        p(Passed = True | L) =  probability\\ of\\ outcome\\ being\\ True\\ given\\ GPA\\ is\\ L  =  \\frac{Number\\ of\\ times\\ True \\ Occurs\\ when\\ is\\ L}{Total\\ Number\\ of\\ Cases\\ when\\ GPA\\ is\\ L} = \\frac{1}{2} \\\\\n",
    "        p(Passed = True| M) =  probability\\ of\\ outcome\\ being\\ True\\ given\\ GPA\\ is\\ M =  \\frac{Number\\ of\\ times\\ True \\ Occurs\\ when\\ is\\ M}{Total\\ Number\\ of\\ Cases\\ when\\ GPA\\ is\\ M} = \\frac{1}{2} \\\\\n",
    "        p(Passed = True | H) =  probability\\ of\\ outcome\\ being\\ True\\ given\\ GPA\\ is\\ H =  \\frac{Number\\ of\\ times\\ True \\ Occurs\\ when\\ is\\ H}{Total\\ Number\\ of\\ Cases\\ when\\ GPA\\ is\\ H} = \\frac{2}{2} = 1 \\\\\n",
    "         p(Passed = False | L) =  probability\\ of\\ outcome\\ being\\ False\\ given\\ GPA\\ is\\ L  =  \\frac{Number\\ of\\ times\\ False \\ Occurs\\ when\\ is\\ L}{Total\\ Number\\ of\\ Cases\\ when\\ GPA\\ is\\ L} = \\frac{1}{2} \\\\\n",
    "        p(Passed = False| M) =  probability\\ of\\ outcome\\ being\\ False\\ given\\ GPA\\ is\\ M =  \\frac{Number\\ of\\ times\\ False \\ Occurs\\ when\\ is\\ M}{Total\\ Number\\ of\\ Cases\\ when\\ GPA\\ is\\ M} = \\frac{1}{2} \\\\\n",
    "        p(Passed = False | H) =  probability\\ of\\ outcome\\ being\\ False\\ given\\ GPA\\ is\\ H =  \\frac{Number\\ of\\ times\\ False \\ Occurs\\ when\\ is\\ H}{Total\\ Number\\ of\\ Cases\\ when\\ GPA\\ is\\ H} = \\frac{0}{2} = 0 \\\\ \n",
    "$$\n",
    "Thus, \n",
    "$$\n",
    "    H(Passed |GPA) = \\frac{1}{3}*(-(0.5log_20.5+0.5log_20.5)) + \\frac{1}{3}*(-(0.5log_20.5+0.5log_20.5)) + \\frac{1}{3}(-(1*log_21 + 0)) \\\\\n",
    "    = 0.3333 + 0.3333 + 0 \\\\\n",
    "    = 0.6666\n",
    "$$\n",
    "\n",
    "3. What is the entropy H(Passed | Studied)?\n",
    " - Using the same method as described above,\n",
    " $$\n",
    "     H(Passed | Studied) = \\sum_{i=T,F} p(i)* H(Passed|i) \\\\\n",
    "     = \\frac{1}{2}*(-(1*log_21 + 0)) + \\frac{1}{2}*(-(0.333*log_20.333 + 0.667log_20.667)) \\\\\n",
    "     = 0 + 0.5(0.333*1.6 + 0.667*0.6) \\\\\n",
    "     = 0.465\n",
    " $$\n",
    "4. Draw the full decision tree that would be learned for this dataset. You do\n",
    "not need to show any calculations.\n",
    " - The decision tree is as follows:\n",
    "![DecisionTreeQ1.png](attachment:DecisionTreeQ1.png)\n",
    "---\n"
   ]
  },
  {
   "cell_type": "markdown",
   "id": "d58cf408",
   "metadata": {},
   "source": [
    "### Question 2 DT loss functions\n",
    "**[10 points]**\n",
    "1. Explain Gini impurity and Entropy. \n",
    " - Gini Impurity and Entropy are both metrics used in deciding a \"good\" split at a node for a decision tree based on the features.\n",
    " \n",
    "  #### Gini Impurity \n",
    "   - Gini Impurity is a measure for determining the goodness of a split.\n",
    "   - It is a generalization of variance impurity for more than two classes.\n",
    "   - Consider a dataset D containing k classes. The gini impurity for D is given by:\n",
    "   \n",
    "   $$\n",
    "       G(D) = \\sum_{i,j = 1 (i \\neq j)}^{k}P(\\omega_i)P(\\omega_j) \\\\\n",
    "        =  1 - \\sum_{i = 1}^{k}P(\\omega_i)^2\n",
    "   $$\n",
    "   - Here $P(\\omega_i)$ is the probability of a sample belonging to class $i$\n",
    "   \n",
    "  #### Entropy\n",
    "   - Entropy is a metric used to measure impurity of splits. Entropy describes information loss, i.e., entropy increases as information is lost to the environment and decreases when information is gained. The lower the entropy, the better the split.\n",
    "   - Consider a Dataset D with k classes, the entropy can be calculated as:\n",
    "   $$\n",
    "       H(D) = -\\sum_{i=1}^{k}P_i log_2P_i\n",
    "   $$\n",
    "   - Here, $P_i$ is probability of a sample belonging to class $i$.\n",
    "2. What are the min and max values for both Gini impurity and Entropy\n",
    " #### Gini Impurity\n",
    "  - The node with uniform class distribution has the highest impurity. The minimum impurity is obtained when all records belong to the same class.\n",
    "  - The minimum value for gini impurity is 0 and the maximum value is 0.5.\n",
    "  \n",
    " #### Entropy\n",
    "  - The entropy is maxiumum when all the classes have equal probability, i.e, information gain in such a split is minimum. The entropy is minimum when all the samples belong to only one class, i.e., information gain is maximum since we have essentially determined whic class the sample belongs to.\n",
    "  - The minimum value for entropy is 0 and the maximum value is 1.\n",
    "3. Plot the Gini impurity and Entropy for $p\\in[0,1]$.\n",
    "4. Multiply Gini impurity by a factor of 2 and overlay it over entropy."
   ]
  },
  {
   "cell_type": "code",
   "execution_count": 1,
   "id": "83c9fee6",
   "metadata": {},
   "outputs": [],
   "source": [
    "# imports\n",
    "import numpy as np\n",
    "import pandas as pd\n",
    "from sklearn.model_selection import train_test_split\n",
    "from sklearn.model_selection import KFold\n",
    "import matplotlib.pyplot as plt\n",
    "from sklearn.decomposition import PCA # used for visualizing data\n",
    "from sklearn import tree\n",
    "import sklearn \n",
    "import math"
   ]
  },
  {
   "cell_type": "code",
   "execution_count": 17,
   "id": "998d269f",
   "metadata": {},
   "outputs": [
    {
     "data": {
      "text/plain": [
       "[Text(200.88000000000002, 181.2, 'X[0] <= 0.5\\ngini = 0.444\\nsamples = 6\\nvalue = [2, 4]'),\n",
       " Text(133.92000000000002, 108.72, 'X[1] <= 1.5\\ngini = 0.444\\nsamples = 3\\nvalue = [2, 1]'),\n",
       " Text(66.96000000000001, 36.23999999999998, 'gini = 0.0\\nsamples = 2\\nvalue = [2, 0]'),\n",
       " Text(200.88000000000002, 36.23999999999998, 'gini = 0.0\\nsamples = 1\\nvalue = [0, 1]'),\n",
       " Text(267.84000000000003, 108.72, 'gini = 0.0\\nsamples = 3\\nvalue = [0, 3]')]"
      ]
     },
     "execution_count": 17,
     "metadata": {},
     "output_type": "execute_result"
    },
    {
     "data": {
      "image/png": "[encoded data removed]",
      "text/plain": [
       "<Figure size 432x288 with 1 Axes>"
      ]
     },
     "metadata": {
      "needs_background": "light"
     },
     "output_type": "display_data"
    }
   ],
   "source": [
    "# Plot the decision tree for Q1\n",
    "# Studied = np.array([0,1,0,1,0,1])\n",
    "# Grade =   np.array([0,0,1,1,2,2])\n",
    "# X = np.array([[0,0],[1,0],[0,1],[1,1],[0,2],[1,2]])\n",
    "# Passed = np.array([0,1,0,1,1,1])\n",
    "# DT = tree.DecisionTreeClassifier()\n",
    "# DT = DT.fit(X,Passed)\n",
    "# tree.plot_tree(DT)"
   ]
  },
  {
   "cell_type": "markdown",
   "id": "8474d3f7",
   "metadata": {},
   "source": [
    "### Plotting Gini impurity and Entropy for $p \\in [0,1]$"
   ]
  },
  {
   "cell_type": "code",
   "execution_count": 3,
   "id": "c9b61906",
   "metadata": {},
   "outputs": [
    {
     "data": {
      "image/png": "[encoded data removed]",
      "text/plain": [
       "<Figure size 432x288 with 1 Axes>"
      ]
     },
     "metadata": {
      "needs_background": "light"
     },
     "output_type": "display_data"
    }
   ],
   "source": [
    "p1 = np.linspace(0,1, 200)\n",
    "p2 = 1-p1\n",
    "\n",
    "gini = 1-(p1**2+p2**2)\n",
    "# avoid divide by 0 errors\n",
    "p1[0] = 0.00001\n",
    "p2[-1] = 0.00001\n",
    "entropy = -(p1*np.log2(p1) + p2*np.log2(p2))\n",
    "# re adjust values again\n",
    "p1[0] = 0\n",
    "p2[-1] = 0\n",
    "entropy[0], entropy[-1] = 0,0\n",
    "\n",
    "plt.plot(p1,gini,color=\"r\")\n",
    "plt.plot(p1,entropy,color=\"b\")\n",
    "plt.axvline(0.5,color='g',linestyle='dashed')\n",
    "plt.legend(['gini impurity', 'entropy'])\n",
    "plt.xlabel(\"p\")\n",
    "plt.ylabel(\"Inourity\")\n",
    "plt.show()"
   ]
  },
  {
   "cell_type": "markdown",
   "id": "1ebb39a6",
   "metadata": {},
   "source": [
    "### Gini impurity multiplied by 2 and overlayed over entropy"
   ]
  },
  {
   "cell_type": "code",
   "execution_count": 4,
   "id": "2c39ee97",
   "metadata": {},
   "outputs": [
    {
     "data": {
      "image/png": "[encoded data removed]",
      "text/plain": [
       "<Figure size 432x288 with 1 Axes>"
      ]
     },
     "metadata": {
      "needs_background": "light"
     },
     "output_type": "display_data"
    }
   ],
   "source": [
    "p1 = np.linspace(0,1, 200)\n",
    "p2 = 1-p1\n",
    "\n",
    "gini = 1-(p1**2+p2**2)\n",
    "# avoid divide by 0 errors\n",
    "p1[0] = 0.00001\n",
    "p2[-1] = 0.00001\n",
    "entropy = -(p1*np.log2(p1) + p2*np.log2(p2))\n",
    "# re adjust values again\n",
    "p1[0] = 0\n",
    "p2[-1] = 0\n",
    "entropy[0], entropy[-1] = 0,0\n",
    "\n",
    "plt.plot(p1,gini*2,color=\"r\")\n",
    "plt.plot(p1,entropy,color=\"b\")\n",
    "plt.axvline(0.5,color='g',linestyle='dashed')\n",
    "plt.legend(['gini impurity', 'entropy'])\n",
    "plt.xlabel(\"p\")\n",
    "plt.ylabel(\"Impurity\")\n",
    "plt.show()"
   ]
  },
  {
   "cell_type": "markdown",
   "id": "c9a406ac",
   "metadata": {},
   "source": [
    "### Question 3 Training a Decision Tree  \n",
    "**[40 points]**\n",
    "\n",
    "You can download the spam dataset from the link given below. This dataset contains feature vectors and the lables of Spam/Non-Spam mails. \n",
    "http://archive.ics.uci.edu/ml/machine-learning-databases/spambase/spambase.data\n",
    "\n",
    "**NOTE: The last column in each row represents whether the mail is spam or non spam**\\\n",
    "Although not needed, incase you want to know what the individual columns in the feature vector means, you can read it in the documentation given below.\n",
    "http://archive.ics.uci.edu/ml/machine-learning-databases/spambase/spambase.DOCUMENTATION"
   ]
  },
  {
   "cell_type": "markdown",
   "id": "28de757a",
   "metadata": {},
   "source": [
    "**Download the data and load it from the code given below**"
   ]
  },
  {
   "cell_type": "code",
   "execution_count": 5,
   "id": "163c0c1b",
   "metadata": {},
   "outputs": [],
   "source": [
    "# load data\n",
    "data = pd.read_csv('spambase.csv')"
   ]
  },
  {
   "cell_type": "code",
   "execution_count": 6,
   "id": "08b0e14a",
   "metadata": {},
   "outputs": [
    {
     "name": "stdout",
     "output_type": "stream",
     "text": [
      "X.shape: (4600, 57) y.shape: (4600,)\n"
     ]
    }
   ],
   "source": [
    "X = data.iloc[:,0:-1].values\n",
    "y = data.iloc[:,-1].values\n",
    "\n",
    "print(f\"X.shape: {X.shape} y.shape: {y.shape}\")"
   ]
  },
  {
   "cell_type": "markdown",
   "id": "1ffee80e",
   "metadata": {},
   "source": [
    "You can try to normalize each column (feature) separately with either one of the following ideas. **Do not normalize labels**.\n",
    "- Shift-and-scale normalization: substract the minimum, then divide by new maximum. Now all values are between 0-1\n",
    "- Zero mean, unit variance : substract the mean, divide by the appropriate value to get variance=1."
   ]
  },
  {
   "cell_type": "code",
   "execution_count": 7,
   "id": "e67b0584",
   "metadata": {},
   "outputs": [],
   "source": [
    "# Normalization using shift-and-scale Normalization\n",
    "for col in range(X.shape[1]):\n",
    "    data.iloc[:,col] = ((data.iloc[:,col].values - data.iloc[:,col].values.min())/(data.iloc[:,col].values.max() - data.iloc[:,col].values.min()))\n",
    "X = data.iloc[:,0:-1].values\n",
    "\n",
    "# print(f\"Max value for every column in the data: {data.max(axis='columns')}\")"
   ]
  },
  {
   "cell_type": "markdown",
   "id": "ef858082",
   "metadata": {},
   "source": [
    "1. Split your data into train 80% and test dataset 20% \n",
    "2. **[BONUS]** Visualize the data using PCA . You can reduce the dimension of the data if you want. Bonus marks if this increases your accuracy.\n",
    "\n",
    "*NOTE: If you are applying PCA or any other type of dimensionality reduction, do it before splitting the dataset*"
   ]
  },
  {
   "cell_type": "code",
   "execution_count": 8,
   "id": "6ccb2471",
   "metadata": {},
   "outputs": [
    {
     "data": {
      "image/png": "[encoded data removed]",
      "text/plain": [
       "<Figure size 432x288 with 1 Axes>"
      ]
     },
     "metadata": {
      "needs_background": "light"
     },
     "output_type": "display_data"
    }
   ],
   "source": [
    "# Visualize with PCA\n",
    "def reduce_dims(n_components):\n",
    "    \n",
    "    # visualize\n",
    "    points = X\n",
    "    pca = PCA(n_components=2)\n",
    "    pca.fit(points)\n",
    "    points = pca.transform(points)\n",
    "    plt.xlabel('2nd principal component')\n",
    "    plt.ylabel('1st principal component')\n",
    "    plt.scatter(points[:,0],points[:,1], c=y, cmap=plt.cm.get_cmap('cividis', 2))\n",
    "    plt.show()\n",
    "    \n",
    "    # reduce dims\n",
    "    points = X\n",
    "    pca = PCA(n_components=n_components)\n",
    "    pca.fit(points)\n",
    "    points = pca.transform(points)\n",
    "    return points\n",
    "points = reduce_dims(10)"
   ]
  },
  {
   "cell_type": "code",
   "execution_count": 9,
   "id": "b4c8ca38",
   "metadata": {},
   "outputs": [],
   "source": [
    "# Apply PCA to X, uncomment and run this only to apply PCA, otherwise ignore this cell\n",
    "# X = points\n",
    "# print(\"PCA has been Applied to the dataset\")"
   ]
  },
  {
   "cell_type": "code",
   "execution_count": 10,
   "id": "817244db",
   "metadata": {},
   "outputs": [],
   "source": [
    "# train-test split 80-20\n",
    "X_train,X_test,y_train,y_test=train_test_split(X,y,test_size=0.2,random_state=0)"
   ]
  },
  {
   "cell_type": "markdown",
   "id": "97e6bf66",
   "metadata": {},
   "source": [
    "You need to perform a K fold validation on this and report the average training error over all the k validations. \n",
    "- For this , you need to split the training data into k splits.\n",
    "- For each split, train a decision tree model and report the training , validation and test scores.\n",
    "- Report the scores in a tabular form for each validation"
   ]
  },
  {
   "cell_type": "code",
   "execution_count": 16,
   "id": "604495ec",
   "metadata": {},
   "outputs": [
    {
     "data": {
      "text/html": [
       "<div>\n",
       "<style scoped>\n",
       "    .dataframe tbody tr th:only-of-type {\n",
       "        vertical-align: middle;\n",
       "    }\n",
       "\n",
       "    .dataframe tbody tr th {\n",
       "        vertical-align: top;\n",
       "    }\n",
       "\n",
       "    .dataframe thead th {\n",
       "        text-align: right;\n",
       "    }\n",
       "</style>\n",
       "<table border=\"1\" class=\"dataframe\">\n",
       "  <thead>\n",
       "    <tr style=\"text-align: right;\">\n",
       "      <th></th>\n",
       "      <th>Validation f1 score</th>\n",
       "      <th>Validation Accuracy</th>\n",
       "      <th>Training f1 score</th>\n",
       "      <th>Training Accuracy</th>\n",
       "    </tr>\n",
       "    <tr>\n",
       "      <th>K</th>\n",
       "      <th></th>\n",
       "      <th></th>\n",
       "      <th></th>\n",
       "      <th></th>\n",
       "    </tr>\n",
       "  </thead>\n",
       "  <tbody>\n",
       "    <tr>\n",
       "      <th>1</th>\n",
       "      <td>0.8866</td>\n",
       "      <td>0.9117</td>\n",
       "      <td>0.9987</td>\n",
       "      <td>0.9990</td>\n",
       "    </tr>\n",
       "    <tr>\n",
       "      <th>2</th>\n",
       "      <td>0.8857</td>\n",
       "      <td>0.9035</td>\n",
       "      <td>0.9987</td>\n",
       "      <td>0.9990</td>\n",
       "    </tr>\n",
       "    <tr>\n",
       "      <th>3</th>\n",
       "      <td>0.8673</td>\n",
       "      <td>0.8981</td>\n",
       "      <td>0.9996</td>\n",
       "      <td>0.9997</td>\n",
       "    </tr>\n",
       "    <tr>\n",
       "      <th>4</th>\n",
       "      <td>0.8852</td>\n",
       "      <td>0.9144</td>\n",
       "      <td>0.9991</td>\n",
       "      <td>0.9993</td>\n",
       "    </tr>\n",
       "    <tr>\n",
       "      <th>5</th>\n",
       "      <td>0.8841</td>\n",
       "      <td>0.9117</td>\n",
       "      <td>0.9991</td>\n",
       "      <td>0.9993</td>\n",
       "    </tr>\n",
       "  </tbody>\n",
       "</table>\n",
       "</div>"
      ],
      "text/plain": [
       "   Validation f1 score  Validation Accuracy  Training f1 score  \\\n",
       "K                                                                \n",
       "1               0.8866               0.9117             0.9987   \n",
       "2               0.8857               0.9035             0.9987   \n",
       "3               0.8673               0.8981             0.9996   \n",
       "4               0.8852               0.9144             0.9991   \n",
       "5               0.8841               0.9117             0.9991   \n",
       "\n",
       "   Training Accuracy  \n",
       "K                     \n",
       "1             0.9990  \n",
       "2             0.9990  \n",
       "3             0.9997  \n",
       "4             0.9993  \n",
       "5             0.9993  "
      ]
     },
     "metadata": {},
     "output_type": "display_data"
    },
    {
     "name": "stdout",
     "output_type": "stream",
     "text": [
      "f1 score on Testing set: 0.9141\n",
      "accuracy score on Testing set: 0.9283\n"
     ]
    }
   ],
   "source": [
    "# Initialize K and split the data\n",
    "K = 5\n",
    "kf = KFold(n_splits=K)\n",
    "kf.get_n_splits(X_train)\n",
    "#Run the K fold Validation and report the scores\n",
    "# training\n",
    "clf = tree.DecisionTreeClassifier()\n",
    "val_f1_list = []\n",
    "val_accuracy_list = []\n",
    "train_f1_list = []\n",
    "train_accuracy_list = []\n",
    "k = 1\n",
    "for train_index, test_index in kf.split(X_train):\n",
    "#     print(\"TRAIN:\", train_index.shape, \"TEST:\", test_index.shape)\n",
    "    \n",
    "    X_k_train, X_validate = X_train[train_index], X_train[test_index]\n",
    "    y_k_train, y_validate = y_train[train_index], y_train[test_index]\n",
    "\n",
    "    clf = clf.fit(X_k_train, y_k_train) # train on k-1 sets\n",
    "    \n",
    "    #training accuracy\n",
    "    y_pred = clf.predict(X_k_train)\n",
    "    score = sklearn.metrics.f1_score(y_k_train, y_pred)\n",
    "    train_f1_list.append(round(score,4))\n",
    "#     print(f\"f1 score on training set for trial {k}: {score:.4f}\")\n",
    "    score = sklearn.metrics.accuracy_score(y_k_train, y_pred)\n",
    "    train_accuracy_list.append(round(score,4))\n",
    "#     print(f\"accuracy score on training set for trial {k}: {score:.4f}\")\n",
    "\n",
    "    # validation accuracy\n",
    "    y_pred = clf.predict(X_validate)\n",
    "    score = sklearn.metrics.f1_score(y_validate, y_pred)\n",
    "    val_f1_list.append(round(score,4))\n",
    "#     print(f\"f1 score on validation set for trial {k}: {score:.4f}\")\n",
    "    score = sklearn.metrics.accuracy_score(y_validate, y_pred)\n",
    "    val_accuracy_list.append(round(score,4))\n",
    "#     print(f\"accuracy score on validation set for trial {k}: {score:.4f}\")\n",
    "        \n",
    "    k += 1\n",
    "df = pd.DataFrame({'K': range(1,K+1), 'Validation f1 score': val_f1_list, 'Validation Accuracy': val_accuracy_list, 'Training f1 score': train_f1_list, 'Training Accuracy': train_accuracy_list}).set_index('K')\n",
    "display(df)\n",
    "\n",
    "# testing\n",
    "y_pred = clf.predict(X_test)\n",
    "score = sklearn.metrics.f1_score(y_test, y_pred)\n",
    "print(f\"f1 score on Testing set: {score:.4f}\")\n",
    "score = sklearn.metrics.accuracy_score(y_test, y_pred)\n",
    "print(f\"accuracy score on Testing set: {score:.4f}\")"
   ]
  },
  {
   "cell_type": "markdown",
   "id": "12dcdf68",
   "metadata": {},
   "source": [
    "### Question 4 Random Forest Algorithm\n",
    "**[30 points]**"
   ]
  },
  {
   "cell_type": "markdown",
   "id": "61115eaf",
   "metadata": {},
   "source": [
    "1. What is boosting, bagging and  stacking?\n",
    "Which class does random forests belong to and why? **[5 points]**\n",
    "\n",
    "#### Answer\n",
    "- All of these are ensemble techniques used to improve classification accuracy.\n",
    "\n",
    "#### Boosting\n",
    " - Boosting is an ensemble learning method that combines a set of weak learners into a strong learner to minimize training errors.\n",
    " - We generate a set of weak classifiers where each classifier is tuned to be complementary to previous ones such that points misclassified by the previous classifiers are included with greater weights in the next one, each model tries to compensate for the weaknesses of its predecessor. \n",
    " - The classifiers are combined using a weighed combination where the weights are proportional to their accuracy\n",
    " \n",
    " $$\n",
    "     H(x) = sign(\\sum_i^k{\\alpha_ih_i(X)})\n",
    " $$\n",
    "  - Where $h_i's$ are weak classifiers and the weights $\\alpha_i's$ are proportional to their accuracies. Their weighted combination $H(x)$ is a strong classifier.\n",
    "  - A variant of this method is AdaBoost where classifiers are generated by weighted sampling.\n",
    "  \n",
    "#### Bagging\n",
    " - In Bagging, we sample the training data with replacement, each sample having the same size as the original dataset.\n",
    " - The data is sampled k times, for each set of sampled training data $D_i$, we train a classifier on it $C_i$.\n",
    " - For the testing phase, each test sample is classified by the previously trained k classifiers $C_i, i=1...k$\n",
    " - We average the results to obtain the final decision.\n",
    " - It is also known as bootstrap aggregation where bootstrapping referes to the process of random sampling and aggregation is the step where we combine all the classifiers.\n",
    " - It is used to reduce the variance of an estimated prediction function.\n",
    "\n",
    "#### Stacking\n",
    " - In stacking, various weak learners are ensembled in a parallel manner in such a way that by combining them with Meta learners, we can predict better predictions for the future.\n",
    " - Meta-learning is the process of using machine learning algorithms to learn how to best combine predictions from other machine learning algorithms in ensemble methods.\n",
    " - It consists of two or more base/learner's models and a meta-model that combines the predictions of the base models. \n",
    " \n",
    " #### Random Forests\n",
    "  - Random forests belongs to the class of bagging ensemble methods.\n",
    "  - This is because it performs feature selection using bagging.\n",
    "  - It outputs the class that is the mode of the class’s output by \n",
    "individual decision trees.\n",
    " - It uses de-correlated trees. Given N training samples with M features each,it creates bootstrap samples and forms trees by splitting only among $m < M$ features at every node. (bootstrapping step)\n",
    " - For a given test sample, it takes the majority prediction of the trees trained in the previous step (Agrregation step)\n",
    " - Thus, it belongs to the class of bagging ensemble methods."
   ]
  },
  {
   "cell_type": "markdown",
   "id": "6b9c366d",
   "metadata": {},
   "source": [
    "2. Implement random forest algorithm using different decision trees. **[25 points]** "
   ]
  },
  {
   "cell_type": "code",
   "execution_count": 12,
   "id": "412cfb26",
   "metadata": {},
   "outputs": [],
   "source": [
    "def random_forest_algorithm(n_elements, n_trees, n_features): # Pass necessary params as per requirements\n",
    "    forest = []\n",
    "    expected_features = []\n",
    "    f1_list = []\n",
    "    accuracy_list = []\n",
    "    for i in range(n_trees):\n",
    "        indices = np.random.choice(range(n_elements), size=n_elements,replace=True)\n",
    "        X_bs_train, y_bs_train = X_train[indices], y_train[indices] # bootstrapping\n",
    "        features = np.random.choice(range(X.shape[1]), size=n_features, replace=False)\n",
    "        X_bs_train = X_bs_train[:,features]\n",
    "        clf = tree.DecisionTreeClassifier()\n",
    "        clf = clf.fit(X_bs_train, y_bs_train) \n",
    "        forest.append(clf)\n",
    "        expected_features.append(features)\n",
    "        #training accuracy\n",
    "        y_pred = clf.predict(X_bs_train)\n",
    "        score = sklearn.metrics.f1_score(y_bs_train, y_pred)\n",
    "        f1_list.append(round(score,4))\n",
    "        \n",
    "#         print(f\"f1 score on training set for tree {i+1}: {score:.4f}\")\n",
    "        score = sklearn.metrics.accuracy_score(y_bs_train, y_pred)\n",
    "        accuracy_list.append(round(score,4))\n",
    "    \n",
    "#         print(f\"accuracy score on training set for tree {i+1}: {score:.4f}\")\n",
    "    df = pd.DataFrame({'Tree': range(1,n_trees+1), 'f1 score': f1_list, 'Accuracy': accuracy_list}).set_index('Tree')   \n",
    "    display(df)\n",
    "    \n",
    "        \n",
    "    return forest, expected_features\n",
    "        \n",
    "        "
   ]
  },
  {
   "cell_type": "code",
   "execution_count": 13,
   "id": "27374a3d",
   "metadata": {},
   "outputs": [
    {
     "name": "stdout",
     "output_type": "stream",
     "text": [
      "=== Performance Of individual Weak Classifiers on training set ===\n"
     ]
    },
    {
     "data": {
      "text/html": [
       "<div>\n",
       "<style scoped>\n",
       "    .dataframe tbody tr th:only-of-type {\n",
       "        vertical-align: middle;\n",
       "    }\n",
       "\n",
       "    .dataframe tbody tr th {\n",
       "        vertical-align: top;\n",
       "    }\n",
       "\n",
       "    .dataframe thead th {\n",
       "        text-align: right;\n",
       "    }\n",
       "</style>\n",
       "<table border=\"1\" class=\"dataframe\">\n",
       "  <thead>\n",
       "    <tr style=\"text-align: right;\">\n",
       "      <th></th>\n",
       "      <th>f1 score</th>\n",
       "      <th>Accuracy</th>\n",
       "    </tr>\n",
       "    <tr>\n",
       "      <th>Tree</th>\n",
       "      <th></th>\n",
       "      <th></th>\n",
       "    </tr>\n",
       "  </thead>\n",
       "  <tbody>\n",
       "    <tr>\n",
       "      <th>1</th>\n",
       "      <td>0.9965</td>\n",
       "      <td>0.9973</td>\n",
       "    </tr>\n",
       "    <tr>\n",
       "      <th>2</th>\n",
       "      <td>0.9952</td>\n",
       "      <td>0.9962</td>\n",
       "    </tr>\n",
       "    <tr>\n",
       "      <th>3</th>\n",
       "      <td>0.9966</td>\n",
       "      <td>0.9973</td>\n",
       "    </tr>\n",
       "    <tr>\n",
       "      <th>4</th>\n",
       "      <td>0.9680</td>\n",
       "      <td>0.9764</td>\n",
       "    </tr>\n",
       "    <tr>\n",
       "      <th>5</th>\n",
       "      <td>0.9752</td>\n",
       "      <td>0.9818</td>\n",
       "    </tr>\n",
       "    <tr>\n",
       "      <th>6</th>\n",
       "      <td>0.9890</td>\n",
       "      <td>0.9916</td>\n",
       "    </tr>\n",
       "    <tr>\n",
       "      <th>7</th>\n",
       "      <td>0.9950</td>\n",
       "      <td>0.9962</td>\n",
       "    </tr>\n",
       "    <tr>\n",
       "      <th>8</th>\n",
       "      <td>0.9850</td>\n",
       "      <td>0.9883</td>\n",
       "    </tr>\n",
       "    <tr>\n",
       "      <th>9</th>\n",
       "      <td>0.9937</td>\n",
       "      <td>0.9954</td>\n",
       "    </tr>\n",
       "    <tr>\n",
       "      <th>10</th>\n",
       "      <td>0.9839</td>\n",
       "      <td>0.9872</td>\n",
       "    </tr>\n",
       "    <tr>\n",
       "      <th>11</th>\n",
       "      <td>0.9599</td>\n",
       "      <td>0.9690</td>\n",
       "    </tr>\n",
       "    <tr>\n",
       "      <th>12</th>\n",
       "      <td>0.9870</td>\n",
       "      <td>0.9899</td>\n",
       "    </tr>\n",
       "  </tbody>\n",
       "</table>\n",
       "</div>"
      ],
      "text/plain": [
       "      f1 score  Accuracy\n",
       "Tree                    \n",
       "1       0.9965    0.9973\n",
       "2       0.9952    0.9962\n",
       "3       0.9966    0.9973\n",
       "4       0.9680    0.9764\n",
       "5       0.9752    0.9818\n",
       "6       0.9890    0.9916\n",
       "7       0.9950    0.9962\n",
       "8       0.9850    0.9883\n",
       "9       0.9937    0.9954\n",
       "10      0.9839    0.9872\n",
       "11      0.9599    0.9690\n",
       "12      0.9870    0.9899"
      ]
     },
     "metadata": {},
     "output_type": "display_data"
    }
   ],
   "source": [
    "# m = math.ceil(np.sqrt(X.shape[1])) # number of features m = sqrt(M)\n",
    "m = 20\n",
    "n_trees = 12\n",
    "print(\"=== Performance Of individual Weak Classifiers on training set ===\")\n",
    "random_forest,expected_features = random_forest_algorithm(n_elements=X_train.shape[0],n_trees=n_trees, n_features=m)"
   ]
  },
  {
   "cell_type": "code",
   "execution_count": 14,
   "id": "582344cd",
   "metadata": {},
   "outputs": [
    {
     "data": {
      "text/html": [
       "<div>\n",
       "<style scoped>\n",
       "    .dataframe tbody tr th:only-of-type {\n",
       "        vertical-align: middle;\n",
       "    }\n",
       "\n",
       "    .dataframe tbody tr th {\n",
       "        vertical-align: top;\n",
       "    }\n",
       "\n",
       "    .dataframe thead th {\n",
       "        text-align: right;\n",
       "    }\n",
       "</style>\n",
       "<table border=\"1\" class=\"dataframe\">\n",
       "  <thead>\n",
       "    <tr style=\"text-align: right;\">\n",
       "      <th></th>\n",
       "      <th>f1 score</th>\n",
       "      <th>Accuracy</th>\n",
       "    </tr>\n",
       "    <tr>\n",
       "      <th>Tree</th>\n",
       "      <th></th>\n",
       "      <th></th>\n",
       "    </tr>\n",
       "  </thead>\n",
       "  <tbody>\n",
       "    <tr>\n",
       "      <th>1</th>\n",
       "      <td>0.8594</td>\n",
       "      <td>0.8815</td>\n",
       "    </tr>\n",
       "    <tr>\n",
       "      <th>2</th>\n",
       "      <td>0.8472</td>\n",
       "      <td>0.8717</td>\n",
       "    </tr>\n",
       "    <tr>\n",
       "      <th>3</th>\n",
       "      <td>0.8127</td>\n",
       "      <td>0.8391</td>\n",
       "    </tr>\n",
       "    <tr>\n",
       "      <th>4</th>\n",
       "      <td>0.8122</td>\n",
       "      <td>0.8457</td>\n",
       "    </tr>\n",
       "    <tr>\n",
       "      <th>5</th>\n",
       "      <td>0.8260</td>\n",
       "      <td>0.8543</td>\n",
       "    </tr>\n",
       "    <tr>\n",
       "      <th>6</th>\n",
       "      <td>0.8415</td>\n",
       "      <td>0.8707</td>\n",
       "    </tr>\n",
       "    <tr>\n",
       "      <th>7</th>\n",
       "      <td>0.8557</td>\n",
       "      <td>0.8761</td>\n",
       "    </tr>\n",
       "    <tr>\n",
       "      <th>8</th>\n",
       "      <td>0.7937</td>\n",
       "      <td>0.8304</td>\n",
       "    </tr>\n",
       "    <tr>\n",
       "      <th>9</th>\n",
       "      <td>0.8535</td>\n",
       "      <td>0.8750</td>\n",
       "    </tr>\n",
       "    <tr>\n",
       "      <th>10</th>\n",
       "      <td>0.8346</td>\n",
       "      <td>0.8587</td>\n",
       "    </tr>\n",
       "    <tr>\n",
       "      <th>11</th>\n",
       "      <td>0.8113</td>\n",
       "      <td>0.8478</td>\n",
       "    </tr>\n",
       "    <tr>\n",
       "      <th>12</th>\n",
       "      <td>0.8505</td>\n",
       "      <td>0.8750</td>\n",
       "    </tr>\n",
       "  </tbody>\n",
       "</table>\n",
       "</div>"
      ],
      "text/plain": [
       "      f1 score  Accuracy\n",
       "Tree                    \n",
       "1       0.8594    0.8815\n",
       "2       0.8472    0.8717\n",
       "3       0.8127    0.8391\n",
       "4       0.8122    0.8457\n",
       "5       0.8260    0.8543\n",
       "6       0.8415    0.8707\n",
       "7       0.8557    0.8761\n",
       "8       0.7937    0.8304\n",
       "9       0.8535    0.8750\n",
       "10      0.8346    0.8587\n",
       "11      0.8113    0.8478\n",
       "12      0.8505    0.8750"
      ]
     },
     "metadata": {},
     "output_type": "display_data"
    },
    {
     "name": "stdout",
     "output_type": "stream",
     "text": [
      "==== Overall Performance of the ensemble =====\n",
      "f1 score random forest on testing set: 0.9355\n",
      "accuracy score of random forest on testing set: 0.9478\n",
      "\n"
     ]
    }
   ],
   "source": [
    "# Testing\n",
    "forest_pred = []\n",
    "f1_list = []\n",
    "accuracy_list = []\n",
    "for i, (t, features) in enumerate(list(zip(random_forest,expected_features))):\n",
    "    X_test_i = X_test[:,features]\n",
    "    y_pred = t.predict(X_test_i)\n",
    "    forest_pred.append(y_pred)\n",
    "    score = sklearn.metrics.f1_score(y_test, y_pred)\n",
    "#     print(f\"f1 score on training set for tree {i+1}: {score:.4f}\")\n",
    "    f1_list.append(round(score,4))\n",
    "\n",
    "    score = sklearn.metrics.accuracy_score(y_test, y_pred)\n",
    "#     print(f\"accuracy score on training set for tree {i+1}: {score:.4f}\")\n",
    "    accuracy_list.append(round(score,4))\n",
    "\n",
    "df = pd.DataFrame({'Tree': range(1,n_trees+1), 'f1 score': f1_list, 'Accuracy': accuracy_list}).set_index('Tree')   \n",
    "display(df)\n",
    "forest_pred = np.array(forest_pred)\n",
    "# Overall prediction of ensemble\n",
    "forest_pred = np.sum(forest_pred,0)/forest_pred.shape[0]\n",
    "predictions = []\n",
    "for i in forest_pred:\n",
    "    if i <= 0.5:\n",
    "        predictions.append(0)\n",
    "    else:\n",
    "        predictions.append(1)\n",
    "print(\"==== Overall Performance of the ensemble =====\")\n",
    "score = sklearn.metrics.f1_score(y_test, predictions)\n",
    "print(f\"f1 score random forest on testing set: {score:.4f}\")\n",
    "score = sklearn.metrics.accuracy_score(y_test, predictions)\n",
    "print(f\"accuracy score of random forest on testing set: {score:.4f}\")\n",
    "print()"
   ]
  },
  {
   "cell_type": "markdown",
   "id": "cd871844",
   "metadata": {},
   "source": [
    "### Observations\n",
    " - When using $m = ceil(\\sqrt{(M)}) = ceil(\\sqrt{57}) = 8$ features, our ensemble accuracy is only 86% whereas when using $m=20$, our ensemble accuracy increases to 94%\n",
    " - Using $m=8$ with 100 trees increases the accuracy to 90%, with 100 trees and $m=20$, accuracy is still around 95%. (we keep the default value as 12 to display results)\n",
    " - Thus, accuracy of the classifier increases with increase in the number of features to some extent and increases with increase in the number of trees used for classification.\n",
    " - The number of features influences the accuracy to a greater extent than the number of trees used, however, we can't use all features as the trees must be de-correlated (bootstrapping also ensures decorrelation between the trees)\n",
    " - Average Accuracy achieved with Random Forest Classifier: 94%\n",
    " - Average achieved with Single Decision Tree Classifier: 91%\n",
    " #### Applying PCA on the dataset\n",
    "  - Visualizing the data with 2 Principal components revealed that 2 components were not able to capture sufficient covariance betweent the data and there was quite a lot of overlap between samples of both the classes in 2 dimensions.  \n",
    "  - After applying PCA with 10 principal components the scores were as follows:\n",
    "  #### Single Decision Tree Classifier\n",
    "   - f1 score on Testing set: 0.8333\n",
    "   - accuracy score on Testing set: 0.8565\n",
    "  #### Random Forest Classifier\n",
    "   - Number of features selected per tree: 6\n",
    "   - f1 score random forest on testing set: 0.8874\n",
    "   - accuracy score of random forest on testing set: 0.9087"
   ]
  }
 ],
 "metadata": {
  "kernelspec": {
   "display_name": "Python 3 (ipykernel)",
   "language": "python",
   "name": "python3"
  },
  "language_info": {
   "codemirror_mode": {
    "name": "ipython",
    "version": 3
   },
   "file_extension": ".py",
   "mimetype": "text/x-python",
   "name": "python",
   "nbconvert_exporter": "python",
   "pygments_lexer": "ipython3",
   "version": "3.9.7"
  }
 },
 "nbformat": 4,
 "nbformat_minor": 5
}
