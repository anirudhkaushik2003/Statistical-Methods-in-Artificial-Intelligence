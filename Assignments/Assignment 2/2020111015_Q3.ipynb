{
 "cells": [
  {
   "cell_type": "markdown",
   "id": "389ddf1d",
   "metadata": {},
   "source": [
    "# Assignment 2 - Question 3\n",
    "The objective of this assignment is to get you familiarize with  the  problem  of  `Logistic Regression`.\n",
    "\n",
    "\n",
    "## Instructions\n",
    "- Do not Use Direct Inbuilt functions for the Task.\n",
    "- Numpy or other math libraries are allowed.\n",
    "- Ensure that this notebook runs without errors when the cells are run in sequence.\n",
    "- Do not change the contents of the Given cells. Use new cells to Write your code.\n",
    "\n",
    "\n",
    "## Submission\n",
    "- Ensure that this notebook runs without errors when the cells are run in sequence.\n",
    "- Rename the notebook to `<roll_number>_Q3.ipynb`\n",
    "- Fill the Name and Roll number in the below markdown"
   ]
  },
  {
   "cell_type": "markdown",
   "id": "6f6269f1",
   "metadata": {},
   "source": [
    "Name: Anirudh Kaushik<br>\n",
    "Roll Number: 2020111015"
   ]
  },
  {
   "cell_type": "markdown",
   "id": "850dba90",
   "metadata": {},
   "source": [
    "### Dataset\n",
    "\n",
    "Use the code below to load the Dataset\n"
   ]
  },
  {
   "cell_type": "code",
   "execution_count": 1,
   "id": "225cdbe5",
   "metadata": {},
   "outputs": [],
   "source": [
    "import numpy as np\n",
    "import matplotlib.pyplot as plt"
   ]
  },
  {
   "cell_type": "code",
   "execution_count": 54,
   "id": "73ed0112",
   "metadata": {},
   "outputs": [],
   "source": [
    "from sklearn.datasets import make_blobs\n",
    "from sklearn.model_selection import train_test_split\n",
    "\n",
    "X, y =  make_blobs(n_samples=100, centers=[[2,4],[4,2]], random_state=20)\n",
    "X_train, X_test, y_train, y_test = train_test_split(X, y, test_size = 0.2, random_state=0)\n"
   ]
  },
  {
   "cell_type": "code",
   "execution_count": 55,
   "id": "b2ec2927",
   "metadata": {},
   "outputs": [
    {
     "data": {
      "text/plain": [
       "[<matplotlib.lines.Line2D at 0x1783b680d00>]"
      ]
     },
     "execution_count": 55,
     "metadata": {},
     "output_type": "execute_result"
    },
    {
     "data": {
      "image/png": "[encoded data removed]",
      "text/plain": [
       "<Figure size 432x288 with 1 Axes>"
      ]
     },
     "metadata": {
      "needs_background": "light"
     },
     "output_type": "display_data"
    }
   ],
   "source": [
    "#Visualize dataset \n",
    "plt.plot(X[:,0][y==0],X[:,1][y==0],'o',color='red')\n",
    "plt.plot(X[:,0][y==1],X[:,1][y==1],'^',color='blue')\n"
   ]
  },
  {
   "cell_type": "markdown",
   "id": "43326e6b",
   "metadata": {},
   "source": [
    "Write your code below for logistic regression with Gradient Descent and plot the decision boundary.<br>\n",
    "Sample output is given in the file `LogisticRegression_sample_result.png`"
   ]
  },
  {
   "cell_type": "code",
   "execution_count": 56,
   "id": "a7c33701",
   "metadata": {},
   "outputs": [],
   "source": [
    "def sigmoid(z):\n",
    "    sig = 1/(1+np.e**(-z))\n",
    "    return sig"
   ]
  },
  {
   "cell_type": "code",
   "execution_count": 57,
   "id": "554d99d7",
   "metadata": {},
   "outputs": [],
   "source": [
    "def derivative_sigmoid(y):\n",
    "    der = y*(1-y)\n",
    "    return der"
   ]
  },
  {
   "cell_type": "code",
   "execution_count": 58,
   "id": "ac596687",
   "metadata": {},
   "outputs": [],
   "source": [
    "def divergence(y_pred, y):\n",
    "    # -[ylog(y_pred) + (1-y)log(1-y_pred)]\n",
    "    # error will be summed over all the divergences for each sample\n",
    "    div = y*np.log(y_pred) + (1-y)*np.log(1-y_pred)\n",
    "    div = -div\n",
    "    return div"
   ]
  },
  {
   "cell_type": "code",
   "execution_count": 59,
   "id": "a193966a",
   "metadata": {},
   "outputs": [],
   "source": [
    "def init(X): # get weight and biasmatrix\n",
    "    weights = np.zeros(X.shape[1] + 1) # dimension of x\n",
    "    return weights"
   ]
  },
  {
   "cell_type": "code",
   "execution_count": 60,
   "id": "7c5728e6",
   "metadata": {},
   "outputs": [],
   "source": [
    "def linear_layer(x,W): # for a given training sample\n",
    "   x = np.append(x,1)\n",
    "   z = np.dot(x,W) # pre-activation \n",
    "   return z"
   ]
  },
  {
   "cell_type": "code",
   "execution_count": 61,
   "id": "2b01365c",
   "metadata": {},
   "outputs": [],
   "source": [
    "def forward_pass(x,W):\n",
    "    z = linear_layer(x,W) # pre-activation output\n",
    "    y = sigmoid(z) # activation output\n",
    "    return y"
   ]
  },
  {
   "cell_type": "code",
   "execution_count": 62,
   "id": "64360385",
   "metadata": {},
   "outputs": [],
   "source": [
    "def backward_pass(x,y,y_pred):\n",
    "    der_y_J = -(y*(1/y_pred) - (1-y)*(1/(1-y_pred))) # derivative of loss wrt y\n",
    "    der_z_y = derivative_sigmoid(y_pred) # derivative of y wrt z\n",
    "    der_z_J = der_y_J * der_z_y # derivative of loss wrt z\n",
    "    \n",
    "    der_w_z =  np.array([x[0], x[1], 1.0]) # derivative of z wrt w\n",
    "    der_w_J = der_z_J * der_w_z# derivative of loss wrt w\n",
    "    \n",
    "    return der_w_J\n"
   ]
  },
  {
   "cell_type": "code",
   "execution_count": 63,
   "id": "b2f1bbeb",
   "metadata": {},
   "outputs": [],
   "source": [
    "def MSE(y_pred, y):\n",
    "    return np.sqrt((y_pred-y)**2)"
   ]
  },
  {
   "cell_type": "code",
   "execution_count": 64,
   "id": "d3f75d68",
   "metadata": {},
   "outputs": [],
   "source": [
    "def model(X,y,learning_rate=0.001,epochs=100):\n",
    "    W = init(X)\n",
    "    num_samples = X.shape[0]\n",
    "    for epoch in range(epochs):\n",
    "        der_w_Err = 0\n",
    "        for i in range(len(X)): # for all training samples\n",
    "            y_pred = forward_pass(X[i],W)\n",
    "            der_w_J = backward_pass(X[i],y[i],y_pred)\n",
    "            der_w_Err += der_w_J/num_samples\n",
    "        # update\n",
    "        W = W - learning_rate*der_w_Err\n",
    "    # test\n",
    "    y_pred_lis = []\n",
    "    for i in range(len(X_test)):\n",
    "        y_pred = forward_pass(X_test[i],W)\n",
    "        if y_pred > 0.5:\n",
    "            y_pred = 1\n",
    "        else:\n",
    "            y_pred = 0\n",
    "        y_pred_lis.append(y_pred)\n",
    "#         print(f\"Error = {MSE(y_pred, y[i])}\")\n",
    "    return W, y_pred_lis\n"
   ]
  },
  {
   "cell_type": "code",
   "execution_count": 69,
   "id": "5542212b",
   "metadata": {},
   "outputs": [
    {
     "name": "stdout",
     "output_type": "stream",
     "text": [
      "Error on test set: 0.15\n",
      "Learned weights w1, w2 and bias = [ 0.18568958 -0.17807595 -0.00342116]\n"
     ]
    },
    {
     "data": {
      "image/png": "[encoded data removed]",
      "text/plain": [
       "<Figure size 720x360 with 1 Axes>"
      ]
     },
     "metadata": {
      "needs_background": "light"
     },
     "output_type": "display_data"
    }
   ],
   "source": [
    "# plot the points\n",
    "x1 = np.linspace(0,6, 100)\n",
    "W, y_pred = model(X,y,learning_rate=0.001,epochs=400)\n",
    "\n",
    "y_pred = np.array(y_pred)\n",
    "print(f\"Error on test set: {np.sum((y_pred - y_test)**2)/len(y_pred)}\")\n",
    "y1 = -(W[1]/W[0])*x1 -(W[2]/W[0])\n",
    "print(f\"Learned weights w1, w2 and bias = {W}\")\n",
    "# Create the plot\n",
    "#Visualize dataset \n",
    "fig = plt.figure(figsize = (10, 5))\n",
    "plt.plot(X[:,0][y==0],X[:,1][y==0],'o',color='red')\n",
    "plt.plot(X[:,0][y==1],X[:,1][y==1],'^',color='blue')\n",
    "plt.plot(x1, y1)\n",
    " \n",
    "# Show the plot\n",
    "plt.show()"
   ]
  },
  {
   "cell_type": "markdown",
   "id": "c1f2b4c5",
   "metadata": {},
   "source": [
    "### Questions\n",
    "\n",
    "1) Explain the approach of Logistic Regression.<br>\n",
    "2) What is the loss function used?<br>\n",
    "3) Explain if we can use Mean Square Error(MSE) as Loss function."
   ]
  },
  {
   "cell_type": "markdown",
   "id": "343f2cef",
   "metadata": {},
   "source": [
    "### Answers\n",
    "1. Logistic regression is used to predict a binary output. Linear regression is used to solve regression problem whereas logistic regression is used to solve classification problems.\n",
    " - it gives probabilisitc values between 0 and 1.\n",
    " - We model the probability of an event taking place by having the log-odds for the event be a linear combination of one or more independent variables. The probability is obtained by applying the sigmoid function to the linear layer.\n",
    "  - $\\sigma(z) = \\frac{1}{1+e^{-z}}$\n",
    "  - Here, z is the pre-activation output\n",
    "  - We then estimate the weights W (parameter estimation) using gradient descent where the gradients are calculated using backpropogation (for our implementation)\n",
    "  - After a fixed number of epochs (or some threshold) the model \"converges\" and we use the weights obtained on the test set.\n",
    "  - Outputs greater than 0.5 are labelled as 1 and outputs less than or equal to 0.5 are labelled as class 0.\n",
    "   \n",
    "   \n",
    "2. We use cross entropy loss as the loss function:\n",
    "\n",
    "   $ Cost \\ function = -\\frac{1}{N} \\sum_{i=1}^{N} y_i*log(y_{pred(i)}) + (1-y_i)*log(1-y_{pred(i)})$\n",
    "   \n",
    " - Here, $y_i$ is the ground truth for the $i^{th}$ sample and $y_{pred(i)}$ is the predicted value for the $i^{th}$ sample\n",
    "   \n",
    "   \n",
    " 3. MSE cannot be used as a loss function as:\n",
    "     - Since we use gradient descent algorithm here, we require a convex function. MSE is a non-convex (as double derivative of the MSE cost function is not $\\geq$ 0 for $\\forall$ x) function and hence it is not guaranteed that we will reach the global minima and there is a chance we might get stuck on a local minima.\n",
    "     - It does not strongly penalize missclassification even for a perfect mismatch "
   ]
  }
 ],
 "metadata": {
  "kernelspec": {
   "display_name": "Python 3 (ipykernel)",
   "language": "python",
   "name": "python3"
  },
  "language_info": {
   "codemirror_mode": {
    "name": "ipython",
    "version": 3
   },
   "file_extension": ".py",
   "mimetype": "text/x-python",
   "name": "python",
   "nbconvert_exporter": "python",
   "pygments_lexer": "ipython3",
   "version": "3.9.7"
  }
 },
 "nbformat": 4,
 "nbformat_minor": 5
}
