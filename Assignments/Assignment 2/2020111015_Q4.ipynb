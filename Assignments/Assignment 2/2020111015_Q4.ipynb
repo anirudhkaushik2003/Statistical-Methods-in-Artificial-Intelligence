{
 "cells": [
  {
   "cell_type": "markdown",
   "id": "improving-pepper",
   "metadata": {},
   "source": [
    "# Assignment 2 - Question 4\n",
    "The objective of this assignment is to get you familiarize with  the  problem  of  `Linear Regression`.\n",
    "\n",
    "## Instructions\n",
    "- Write your code and analysis in the indicated cells.\n",
    "- Ensure that this notebook runs without errors when the cells are run in sequence.\n",
    "- Do not attempt to change the contents of other cells.\n",
    "- No inbuilt functions to be used until specified\n",
    "\n",
    "## Submission\n",
    "- Ensure that this notebook runs without errors when the cells are run in sequence.\n",
    "- Rename the notebook to `<roll_number>_Q4.ipynb`.\n",
    "- Fill the Name and Roll number in the below markdown"
   ]
  },
  {
   "cell_type": "markdown",
   "id": "6f6269f1",
   "metadata": {},
   "source": [
    "Name: Anirudh Kaushik <br>\n",
    "Roll Number: 2020111015"
   ]
  },
  {
   "cell_type": "markdown",
   "id": "final-transaction",
   "metadata": {},
   "source": [
    "## Background about the dataset\n",
    "\n",
    "TLDR: You have 4 independent variables (`float`) for each molecule. You can use a linear combination of these 4 independent variables to predict the bandgap (dependent variable) of each molecule.\n",
    "\n",
    "You can read more about the problem in [Li et al, Bandgap tuning strategy by cations and halide ions of lead halide perovskites learned from machine learning, RSC Adv., 2021,11, 15688-15694](https://doi.org/10.1039/D1RA03117A)."
   ]
  },
  {
   "cell_type": "code",
   "execution_count": 1,
   "id": "lyric-olympus",
   "metadata": {},
   "outputs": [],
   "source": [
    "import csv\n",
    "import random\n",
    "import numpy as np\n",
    "import matplotlib.pyplot as plt"
   ]
  },
  {
   "cell_type": "code",
   "execution_count": 2,
   "id": "hundred-receipt",
   "metadata": {},
   "outputs": [],
   "source": [
    "all_molecules = list()\n",
    "\n",
    "with open('bg_data.txt', 'r') as infile:\n",
    "    input_rows = csv.DictReader(infile)\n",
    "    \n",
    "    for row in input_rows:\n",
    "        current_mol = ([float(row['Cs']), float(row['FA']), float(row['Cl']), float(row['Br'])], float(row['Bandgap']))\n",
    "        all_molecules.append(current_mol)\n",
    "\n",
    "random.shuffle(all_molecules)\n",
    "\n",
    "\n",
    "num_train = int(len(all_molecules) * 0.8)\n",
    "\n",
    "# each point in x_train has 4 values - 1 for each feature\n",
    "x_train = [x[0] for x in all_molecules[:num_train]]\n",
    "# each point in y_train has 1 value - the bandgap of the molecule\n",
    "y_train = [x[1] for x in all_molecules[:num_train]]\n",
    "\n",
    "x_test = [x[0] for x in all_molecules[num_train:]]\n",
    "y_test = [x[1] for x in all_molecules[num_train:]]"
   ]
  },
  {
   "cell_type": "markdown",
   "id": "square-direction",
   "metadata": {},
   "source": [
    "### 4.1 Implement a Linear Regression model that minimizes the MSE **without using any libraries**. You may use NumPy to vectorize your code, but *do not use numpy.polyfit* or anything similar.\n",
    "\n",
    "4.1.1 Explain how you plan to implement Linear Regression in 5-10 lines."
   ]
  },
  {
   "cell_type": "markdown",
   "id": "frozen-forth",
   "metadata": {},
   "source": [
    "<!-- your answer to 1.1.1 -->\n",
    "#### 1.1.1\n",
    "- In linear regression, we are given data points and we have to fit a hyperplane through them such that the distance between the hyperplane and that line is minimized.\n",
    "- Unlike classification, in regression problems the outputs are real valued.\n",
    "- We aim to find a linear relation between the independent variables (here it is the 4 dimensional vector x) and the dependent variable (here it is the one dimensional variable y containing the bandgap values)\n",
    "##### Steps to implement linear regression\n",
    " - We initialize a weights array with dimension equal to the dimension of the independent vector x + 1, the extra dimension is because we add a bias term to make the model more flexible.\n",
    " - We define a linear layer which is of the form $y = W^T.X + b$. Here, b is the bias term, we append a constant 1.0 to the x vector before taking the dot product with the weights matrix to allow for the bias term.\n",
    " - We define the cost function, here we use mean squared error\n",
    "\n",
    "   $Cost \\ Function = \\frac{1}{2}*||(y_{pred} - y_{actual})||^2$\n",
    "\n",
    " - We define the derivative of the cost function\n",
    "\n",
    "    $ Derivative \\ of \\ the \\ cost \\ function =  (y_{pred} - y_{actual})$\n",
    " - In the forward pass, we calculate y_pred by applying the linear layer to each sample in X. We calculate MSE(y_pred, y).\n",
    " - In the backward pass we calculate the derivative of the loss function with respect to the weights vector using chain rule by calculating the derivative of the loss with respect to y_pred and multiplying that with derivative of y with respect to w ( which is simple the vector X + 1.0 (added for bias))\n",
    " - We sum over all the losses and divide by number of samples. Since this is batch gradient descent, for each epoch we calculate the mean of the derivative of loss function wrt W over all the samples and at the end update the weight vector by the rule $W^{(t+1)} = W^{(t)} - \\eta*\\frac{\\delta J}{\\delta W} $, where W is a vector.\n",
    " - We do this for around 800 epochs (hyperparameter) and after this we use the W obtained on the test set. \n",
    " - Since we do not touch the test set while training, our results are valid."
   ]
  },
  {
   "cell_type": "markdown",
   "id": "addressed-winter",
   "metadata": {},
   "source": [
    "4.1.2 Implement Linear Regression using `x_train` and `y_train` as the train dataset.\n",
    "\n",
    "4.1.2.1 Choose the best learning rate and print the learning rate for which you achieved the best MSE."
   ]
  },
  {
   "cell_type": "code",
   "execution_count": 3,
   "id": "angry-depression",
   "metadata": {},
   "outputs": [],
   "source": [
    "def init(X): # get weight and bias matrix\n",
    "    weights = np.zeros(X.shape[1] + 1) # dimension of x\n",
    "    return weights"
   ]
  },
  {
   "cell_type": "code",
   "execution_count": 4,
   "id": "8ea0d33d",
   "metadata": {},
   "outputs": [],
   "source": [
    "def linear_layer(x,W): # for a given training sample\n",
    "   x = np.append(x,1)\n",
    "   z = np.dot(x,W) # pre-activation \n",
    "   return z"
   ]
  },
  {
   "cell_type": "code",
   "execution_count": 5,
   "id": "9ef486a3",
   "metadata": {},
   "outputs": [],
   "source": [
    "def MSE(y_pred, y):\n",
    "    return 0.5*((y_pred-y)**2)"
   ]
  },
  {
   "cell_type": "code",
   "execution_count": 6,
   "id": "069ea197",
   "metadata": {},
   "outputs": [],
   "source": [
    "def derivative_MSE(y_pred, y):\n",
    "    return (y_pred - y)"
   ]
  },
  {
   "cell_type": "code",
   "execution_count": 7,
   "id": "6f2ba6ba",
   "metadata": {},
   "outputs": [],
   "source": [
    "def forward_pass(x,W):\n",
    "    y = linear_layer(x,W) # linear output\n",
    "    return y"
   ]
  },
  {
   "cell_type": "code",
   "execution_count": 8,
   "id": "3a8cd9d4",
   "metadata": {},
   "outputs": [],
   "source": [
    "def backward_pass(x,y,y_pred):\n",
    "    der_y_J = derivative_MSE(y_pred,y) # derivative of loss wrt y\n",
    "    der_w_y =  np.array([x[0], x[1],x[2],x[3], 1.0]) # derivative of z wrt w\n",
    "    der_w_J = der_y_J * der_w_y# derivative of loss wrt w\n",
    "    \n",
    "    return der_w_J\n"
   ]
  },
  {
   "cell_type": "code",
   "execution_count": 9,
   "id": "d570150b",
   "metadata": {},
   "outputs": [
    {
     "name": "stdout",
     "output_type": "stream",
     "text": [
      "for learning_rate: 0.001 MSE: 0.37579 standard derviation of squared error: 0.57329\n",
      "for learning_rate: 0.01 MSE: 0.05295 standard derviation of squared error: 0.10343\n",
      "for learning_rate: 0.05 MSE: 0.00363 standard derviation of squared error: 0.00658\n",
      "for learning_rate: 0.1 MSE: 0.00108 standard derviation of squared error: 0.00144\n",
      "for learning_rate: 0.5 MSE: 0.00088 standard derviation of squared error: 0.00126\n",
      "for learning_rate: 1 MSE: 0.00088 standard derviation of squared error: 0.00126\n"
     ]
    },
    {
     "data": {
      "image/png": "[encoded data removed]",
      "text/plain": [
       "<Figure size 432x288 with 1 Axes>"
      ]
     },
     "metadata": {
      "needs_background": "light"
     },
     "output_type": "display_data"
    }
   ],
   "source": [
    "def model(x_train,y_train,x_test,y_test,learning_rate=0.001,epochs=100):\n",
    "    x_train = np.array(x_train)\n",
    "    y_train = np.array(y_train)\n",
    "    \n",
    "    x_test = np.array(x_test)\n",
    "    y_test = np.array(y_test)\n",
    "    \n",
    "    W = init(x_train)\n",
    "    num_samples = x_train.shape[0]\n",
    "    for epoch in range(epochs):\n",
    "        der_w_Err = 0\n",
    "        for i in range(len(x_train)): # for all training samples\n",
    "            y_pred = forward_pass(x_train[i],W)\n",
    "            der_w_J = backward_pass(x_train[i],y_train[i],y_pred)\n",
    "            der_w_Err += der_w_J/num_samples\n",
    "        # update\n",
    "        W = W - learning_rate*der_w_Err\n",
    "    # test\n",
    "    Y = []\n",
    "    error_lis = []\n",
    "    for i in range(len(x_test)):\n",
    "        y_pred = forward_pass(x_test[i],W)\n",
    "        Y.append(y_pred)\n",
    "        error_lis.append(MSE(y_pred, y_test[i]))\n",
    "    error_lis = np.array(error_lis)\n",
    "    avg_mse,std_mse = round(np.mean(error_lis),5), round(np.std(error_lis),5)\n",
    "    print(f\"for learning_rate: {learning_rate} MSE: {avg_mse} standard derviation of squared error: {std_mse}\")\n",
    "    return W, Y, avg_mse,std_mse\n",
    "lr = [0.001,0.01,0.05,0.1,0.5,1]\n",
    "avg_mse_lis = []\n",
    "std_mse_lis = []\n",
    "y_pred_lis = []\n",
    "for learning_rate in lr:\n",
    "    W, y_pred, avg_mse,std_mse = model(x_train,y_train,x_test,y_test,learning_rate=learning_rate,epochs=800)\n",
    "    y_pred_lis.append(y_pred)\n",
    "    avg_mse_lis.append(avg_mse)\n",
    "    std_mse_lis.append(std_mse)\n",
    "plt.xlabel('learning rate')\n",
    "plt.plot(lr,avg_mse_lis, label=\"MSE\")\n",
    "plt.plot(lr,std_mse_lis, label=\"STD of squared error\")\n",
    "\n",
    "plt.show()"
   ]
  },
  {
   "cell_type": "code",
   "execution_count": 10,
   "id": "f6bd118d",
   "metadata": {},
   "outputs": [
    {
     "name": "stdout",
     "output_type": "stream",
     "text": [
      "Minimum MSE obtained for learning_rate: 0.5\n",
      "predicted: 1.82 gnd_truth: 1.81\n",
      "predicted: 1.61 gnd_truth: 1.65\n",
      "predicted: 1.63 gnd_truth: 1.63\n",
      "predicted: 1.56 gnd_truth: 1.52\n",
      "predicted: 1.81 gnd_truth: 1.8\n",
      "predicted: 1.55 gnd_truth: 1.48\n",
      "predicted: 1.64 gnd_truth: 1.62\n",
      "predicted: 1.71 gnd_truth: 1.75\n",
      "predicted: 1.58 gnd_truth: 1.56\n",
      "predicted: 2.86 gnd_truth: 2.84\n",
      "predicted: 1.6 gnd_truth: 1.61\n",
      "predicted: 3.07 gnd_truth: 3.13\n",
      "predicted: 1.65 gnd_truth: 1.69\n",
      "predicted: 1.69 gnd_truth: 1.69\n",
      "predicted: 2.2 gnd_truth: 2.23\n",
      "predicted: 1.92 gnd_truth: 1.96\n",
      "predicted: 2.96 gnd_truth: 2.98\n",
      "predicted: 1.49 gnd_truth: 1.52\n",
      "predicted: 3.02 gnd_truth: 3.0\n",
      "predicted: 2.2 gnd_truth: 2.3\n",
      "predicted: 1.84 gnd_truth: 1.75\n",
      "predicted: 1.78 gnd_truth: 1.76\n"
     ]
    }
   ],
   "source": [
    "ind = avg_mse_lis.index(min(avg_mse_lis))\n",
    "y_pred = y_pred_lis[ind]\n",
    "print(f\"Minimum MSE obtained for learning_rate: {lr[ind]}\")\n",
    "for i,j in list(zip(y_pred,y_test)):\n",
    "    print(f\"predicted: {round(i,2)} gnd_truth: {j}\")"
   ]
  },
  {
   "cell_type": "markdown",
   "id": "angry-tampa",
   "metadata": {},
   "source": [
    "4.1.3 Make a [Parity Plot](https://en.wikipedia.org/wiki/Parity_plot) of your model's bandgap predictions on the test set with the actual values."
   ]
  },
  {
   "cell_type": "code",
   "execution_count": 11,
   "id": "foster-center",
   "metadata": {},
   "outputs": [
    {
     "data": {
      "image/png": "[encoded data removed]",
      "text/plain": [
       "<Figure size 720x1440 with 1 Axes>"
      ]
     },
     "metadata": {
      "needs_background": "light"
     },
     "output_type": "display_data"
    }
   ],
   "source": [
    "import matplotlib.pyplot as plt\n",
    "fig, ax = plt.subplots(figsize=(10,20))\n",
    "\n",
    "ax.scatter(y_test, y_pred)\n",
    "\n",
    "lims = [\n",
    "    np.min([ax.get_xlim(), ax.get_ylim()]),\n",
    "    np.max([ax.get_xlim(), ax.get_ylim()]),\n",
    "]\n",
    "ax.plot(lims, lims, 'k-', alpha=0.75, zorder=0)\n",
    "ax.set_aspect('equal')\n",
    "ax.set_xlim(lims)\n",
    "ax.set_ylim(lims)\n",
    "\n",
    "ax.set_title('Parity Plot of Custom Linear Regression')\n",
    "ax.set_xlabel('Ground truth bandgap values')\n",
    "ax.set_ylabel('Predicted bandgap values')\n",
    "plt.show()"
   ]
  },
  {
   "cell_type": "markdown",
   "id": "dominant-chaos",
   "metadata": {},
   "source": [
    "### 4.2 Implement Ridge regression\n",
    "4.2.1 Explain Ridge regression briefly in 1-2 lines."
   ]
  },
  {
   "cell_type": "markdown",
   "id": "happy-cyprus",
   "metadata": {},
   "source": [
    "<!-- Your answer to 1.2.1 -->\n",
    "#### 1.2.1\n",
    " - Ridge regression is a model tuning method for estimating coefficients of multiple-regression models when data suffers from multi-collinearity, i.e., two or more independent variables in a model are correlated. We perform L2 regularization.\n",
    " - In multicollinearity least squares are unbiased and variances are large leading to large differences between predicted and actual values.\n",
    " - A ridge regression estimator is used to provide a more precise ridge parameters estimate, as its variance and mean square estimator are often smaller than the least square estimators.\n",
    " \n",
    " $Cost \\ function: Min(||Y – X(\\theta)||^2 + \\alpha||\\theta||^2)$"
   ]
  },
  {
   "cell_type": "markdown",
   "id": "tight-forwarding",
   "metadata": {},
   "source": [
    "4.2.2 Implement Ridge regression and make a table of different RMSE scores you achieved with different values of alpha. What does the parameter `alpha` do? How does it affect the results here? Explain in 5-10 lines in total. (You can use scikit-learn from this cell onwards)"
   ]
  },
  {
   "cell_type": "code",
   "execution_count": 12,
   "id": "violent-northern",
   "metadata": {},
   "outputs": [
    {
     "data": {
      "text/html": [
       "<div>\n",
       "<style scoped>\n",
       "    .dataframe tbody tr th:only-of-type {\n",
       "        vertical-align: middle;\n",
       "    }\n",
       "\n",
       "    .dataframe tbody tr th {\n",
       "        vertical-align: top;\n",
       "    }\n",
       "\n",
       "    .dataframe thead th {\n",
       "        text-align: right;\n",
       "    }\n",
       "</style>\n",
       "<table border=\"1\" class=\"dataframe\">\n",
       "  <thead>\n",
       "    <tr style=\"text-align: right;\">\n",
       "      <th></th>\n",
       "      <th>Alpha</th>\n",
       "      <th>RMSE score</th>\n",
       "    </tr>\n",
       "  </thead>\n",
       "  <tbody>\n",
       "    <tr>\n",
       "      <th>0</th>\n",
       "      <td>0.00</td>\n",
       "      <td>0.041972</td>\n",
       "    </tr>\n",
       "    <tr>\n",
       "      <th>1</th>\n",
       "      <td>0.01</td>\n",
       "      <td>0.042159</td>\n",
       "    </tr>\n",
       "    <tr>\n",
       "      <th>2</th>\n",
       "      <td>0.05</td>\n",
       "      <td>0.043317</td>\n",
       "    </tr>\n",
       "    <tr>\n",
       "      <th>3</th>\n",
       "      <td>0.10</td>\n",
       "      <td>0.045558</td>\n",
       "    </tr>\n",
       "    <tr>\n",
       "      <th>4</th>\n",
       "      <td>0.50</td>\n",
       "      <td>0.076809</td>\n",
       "    </tr>\n",
       "    <tr>\n",
       "      <th>5</th>\n",
       "      <td>1.00</td>\n",
       "      <td>0.117243</td>\n",
       "    </tr>\n",
       "    <tr>\n",
       "      <th>6</th>\n",
       "      <td>5.00</td>\n",
       "      <td>0.277152</td>\n",
       "    </tr>\n",
       "    <tr>\n",
       "      <th>7</th>\n",
       "      <td>10.00</td>\n",
       "      <td>0.347808</td>\n",
       "    </tr>\n",
       "    <tr>\n",
       "      <th>8</th>\n",
       "      <td>50.00</td>\n",
       "      <td>0.462136</td>\n",
       "    </tr>\n",
       "  </tbody>\n",
       "</table>\n",
       "</div>"
      ],
      "text/plain": [
       "   Alpha  RMSE score\n",
       "0   0.00    0.041972\n",
       "1   0.01    0.042159\n",
       "2   0.05    0.043317\n",
       "3   0.10    0.045558\n",
       "4   0.50    0.076809\n",
       "5   1.00    0.117243\n",
       "6   5.00    0.277152\n",
       "7  10.00    0.347808\n",
       "8  50.00    0.462136"
      ]
     },
     "metadata": {},
     "output_type": "display_data"
    }
   ],
   "source": [
    "# you should not have imported sklearn before this point\n",
    "import pandas as pd\n",
    "import sklearn\n",
    "from sklearn.linear_model import Ridge\n",
    "import numpy as np\n",
    "alpha = [0.0, 0.01, 0.05, 0.1, 0.5, 1.0, 5.0, 10.0, 50.0]\n",
    "mean_res = []\n",
    "\n",
    "for a in alpha:\n",
    "    clf = Ridge(alpha=a)\n",
    "    clf.fit(x_train, y_train)\n",
    "    y_pred = clf.predict(x_test)\n",
    "    mse_lis = 0\n",
    "    for i,j in list(zip(y_pred, y_test)):\n",
    "        mse_lis += 2*MSE(i,j)\n",
    "\n",
    "    mean_res.append(np.sqrt(mse_lis/len(y_test)))\n",
    "df = pd.DataFrame({'Alpha':alpha, \"RMSE score\": mean_res})\n",
    "display(df)\n",
    "# implement Ridge regression and make a table where you explore the effect of different values of `alpha`"
   ]
  },
  {
   "cell_type": "code",
   "execution_count": 13,
   "id": "9ca94109",
   "metadata": {},
   "outputs": [
    {
     "data": {
      "image/png": "[encoded data removed]",
      "text/plain": [
       "<Figure size 432x288 with 1 Axes>"
      ]
     },
     "metadata": {
      "needs_background": "light"
     },
     "output_type": "display_data"
    }
   ],
   "source": [
    "plt.xlabel('Alpha')\n",
    "plt.ylabel('RMSE score')\n",
    "plt.plot(alpha[0:5], mean_res[0:5])\n",
    "plt.show()"
   ]
  },
  {
   "cell_type": "markdown",
   "id": "885e69f3",
   "metadata": {},
   "source": [
    "#### Q. What does the parameter alpha do? How does it affect the results here? Explain in 5-10 lines in total.\n",
    "#### Answer:\n",
    "- $\\alpha$ is the penalty term. Higher values of $\\alpha$ imposes a greater penalty thus reducing the magnitude of the coefficients.\n",
    "- It reduces multicollinearity or correlation between the independent variables of the model by shrinking the parameters\n",
    "- The coefficient shrinking reduces the model complexity \n",
    "- $\\alpha$ is a constant that multiplies the L2 term, controlling regularization strength. \n",
    "- $\\alpha$ must be non-negative\n",
    "- With $\\alpha =  0$, the model is equivalent to ordinary least squares linear regression."
   ]
  },
  {
   "cell_type": "markdown",
   "id": "adolescent-temperature",
   "metadata": {},
   "source": [
    "### 4.3 Implement Lasso regression\n",
    "4.3.1 Explain Lasso regression briefly in 1-2 lines.\n",
    "- LASSO stands for least absolute shrinkage and selection operator. Lasso regression is also a regularization technique. The main difference between ridge and lasso regression is that lasso regression uses L1 regularization while ridge regression uses L2 regularization. \n",
    "- WShrinkage is where data values are shrunk towards a central point as the mean. The lasso procedure encourages simple, sparse models (i.e. models with fewer parameters). \n",
    "- Suitable for models with high levels of multicollinearity.\n",
    "- Lasso forces the sum of the absolute value of the regression coefficients to be less than a fixed value, which forces certain coefficients to zero, excluding them from impacting prediction. This idea is similar to ridge regression, which also shrinks the size of the coefficients; however, ridge regression does not set coefficients to zero (and, thus, does not perform variable selection).\n",
    "\n",
    "  $ Cost \\ Function: (\\frac{1}{(2 * n_samples)}) * ||y - Xw||^2_2 + \\alpha * ||w||_1$\n",
    "\n",
    "- Lasso Regression uses L1 regularization technique and automatically performs feauture selection as described above."
   ]
  },
  {
   "cell_type": "markdown",
   "id": "popular-wonder",
   "metadata": {},
   "source": [
    "4.3.2 Implement Lasso regression and make a table of different RMSE scores you achieved with different values of alpha. What does the parameter `alpha` do? How does it affect the results here? Explain in 5-10 lines in total."
   ]
  },
  {
   "cell_type": "code",
   "execution_count": 14,
   "id": "extra-brighton",
   "metadata": {},
   "outputs": [
    {
     "data": {
      "text/html": [
       "<div>\n",
       "<style scoped>\n",
       "    .dataframe tbody tr th:only-of-type {\n",
       "        vertical-align: middle;\n",
       "    }\n",
       "\n",
       "    .dataframe tbody tr th {\n",
       "        vertical-align: top;\n",
       "    }\n",
       "\n",
       "    .dataframe thead th {\n",
       "        text-align: right;\n",
       "    }\n",
       "</style>\n",
       "<table border=\"1\" class=\"dataframe\">\n",
       "  <thead>\n",
       "    <tr style=\"text-align: right;\">\n",
       "      <th></th>\n",
       "      <th>Alpha</th>\n",
       "      <th>RMSE score</th>\n",
       "    </tr>\n",
       "  </thead>\n",
       "  <tbody>\n",
       "    <tr>\n",
       "      <th>0</th>\n",
       "      <td>0.01</td>\n",
       "      <td>0.085229</td>\n",
       "    </tr>\n",
       "    <tr>\n",
       "      <th>1</th>\n",
       "      <td>0.05</td>\n",
       "      <td>0.327081</td>\n",
       "    </tr>\n",
       "    <tr>\n",
       "      <th>2</th>\n",
       "      <td>0.10</td>\n",
       "      <td>0.521230</td>\n",
       "    </tr>\n",
       "    <tr>\n",
       "      <th>3</th>\n",
       "      <td>0.50</td>\n",
       "      <td>0.522405</td>\n",
       "    </tr>\n",
       "    <tr>\n",
       "      <th>4</th>\n",
       "      <td>1.00</td>\n",
       "      <td>0.522405</td>\n",
       "    </tr>\n",
       "    <tr>\n",
       "      <th>5</th>\n",
       "      <td>5.00</td>\n",
       "      <td>0.522405</td>\n",
       "    </tr>\n",
       "    <tr>\n",
       "      <th>6</th>\n",
       "      <td>10.00</td>\n",
       "      <td>0.522405</td>\n",
       "    </tr>\n",
       "    <tr>\n",
       "      <th>7</th>\n",
       "      <td>50.00</td>\n",
       "      <td>0.522405</td>\n",
       "    </tr>\n",
       "  </tbody>\n",
       "</table>\n",
       "</div>"
      ],
      "text/plain": [
       "   Alpha  RMSE score\n",
       "0   0.01    0.085229\n",
       "1   0.05    0.327081\n",
       "2   0.10    0.521230\n",
       "3   0.50    0.522405\n",
       "4   1.00    0.522405\n",
       "5   5.00    0.522405\n",
       "6  10.00    0.522405\n",
       "7  50.00    0.522405"
      ]
     },
     "metadata": {},
     "output_type": "display_data"
    }
   ],
   "source": [
    "import pandas as pd\n",
    "import sklearn\n",
    "from sklearn.linear_model import Lasso\n",
    "import numpy as np\n",
    "alpha = [ 0.01, 0.05, 0.1, 0.5, 1.0, 5.0, 10.0, 50.0]\n",
    "mean_res = []\n",
    "\n",
    "for a in alpha:\n",
    "    clf = Lasso(alpha=a)\n",
    "    clf.fit(x_train, y_train) \n",
    "    y_pred = clf.predict(x_test)\n",
    "    mse_lis = 0\n",
    "    for i,j in list(zip(y_pred, y_test)):\n",
    "        mse_lis += 2*MSE(i,j)\n",
    "    mean_res.append(np.sqrt(mse_lis/len(y_test)))\n",
    "df = pd.DataFrame({'Alpha':alpha, \"RMSE score\": mean_res})\n",
    "display(df)\n",
    "# implement Lasso regression and make a table where you explore the effect of different values of `alpha`"
   ]
  },
  {
   "cell_type": "code",
   "execution_count": 15,
   "id": "ef953a09",
   "metadata": {},
   "outputs": [
    {
     "data": {
      "image/png": "[encoded data removed]",
      "text/plain": [
       "<Figure size 432x288 with 1 Axes>"
      ]
     },
     "metadata": {
      "needs_background": "light"
     },
     "output_type": "display_data"
    }
   ],
   "source": [
    "plt.xlabel('Alpha')\n",
    "plt.ylabel('RMSE score')\n",
    "plt.plot(alpha[0:5], mean_res[0:5])\n",
    "plt.show()"
   ]
  },
  {
   "cell_type": "markdown",
   "id": "694b48ae",
   "metadata": {},
   "source": [
    "#### Q. What does the parameter alpha do? How does it affect the results here?\n",
    "#### Answer:\n",
    "- $\\alpha$ is a constant that multiplies the L1 term, controlling regularization strength\n",
    "- It denotes amount of shrinkage.\n",
    "- Setting $\\alpha$ to $\\infty$ means maximum shrinkage, i.e., no parameter is considered and all are set to 0. No features are selected\n",
    "- The bias increases with increase in $\\alpha$\n",
    "- Variance increases with decrease in $\\alpha$\n",
    "- $\\alpha$ must be non-negative\n",
    "- With $\\alpha =  0$, the model is equivalent to ordinary least squares linear regression."
   ]
  }
 ],
 "metadata": {
  "kernelspec": {
   "display_name": "Python 3 (ipykernel)",
   "language": "python",
   "name": "python3"
  },
  "language_info": {
   "codemirror_mode": {
    "name": "ipython",
    "version": 3
   },
   "file_extension": ".py",
   "mimetype": "text/x-python",
   "name": "python",
   "nbconvert_exporter": "python",
   "pygments_lexer": "ipython3",
   "version": "3.9.7"
  }
 },
 "nbformat": 4,
 "nbformat_minor": 5
}
