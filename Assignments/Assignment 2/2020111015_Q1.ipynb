{
 "cells": [
  {
   "cell_type": "markdown",
   "id": "186be3d3",
   "metadata": {},
   "source": [
    "# Assignment 2 - Question 1\n",
    "The objective of this assignment is to get you familiarize with  the  problem  of  `KNN Classifiers`.\n",
    "\n",
    "\n",
    "## Instructions\n",
    "- Do not Use Direct Inbuilt functions for the Task.\n",
    "- Numpy or other math libraries are allowed \n",
    "- Ensure that this notebook runs without errors when the cells are run in sequence.\n",
    "- Do not change the contents of the Given cells. Use new cells to Write your code.\n",
    "\n",
    "\n",
    "## Submission\n",
    "- Ensure that this notebook runs without errors when the cells are run in sequence.\n",
    "- Rename the notebook to `<roll_number>_Q1.ipynb`\n",
    "- Fill the Name and Roll number in the below markdown"
   ]
  },
  {
   "cell_type": "markdown",
   "id": "6f6269f1",
   "metadata": {},
   "source": [
    "Name: Anirudh Kaushik<br>\n",
    "Roll Number: 2020111015"
   ]
  },
  {
   "cell_type": "markdown",
   "id": "edeabff5",
   "metadata": {},
   "source": [
    "### Dataset\n",
    "\n",
    "Use the code below to load the Dataset"
   ]
  },
  {
   "cell_type": "code",
   "execution_count": 1,
   "id": "69cac090",
   "metadata": {},
   "outputs": [],
   "source": [
    "import numpy as np\n",
    "import pandas as pd\n",
    "from sklearn.model_selection import train_test_split\n",
    "import matplotlib.pyplot as plt\n",
    "from sklearn.decomposition import PCA # used only for visualizing data\n",
    "import sklearn # used only for rand index score"
   ]
  },
  {
   "cell_type": "code",
   "execution_count": 2,
   "id": "e0fa6912",
   "metadata": {},
   "outputs": [],
   "source": [
    "#Load data\n",
    "iris = pd.read_csv('Iris.csv')\n",
    "#data cleaning\n",
    "iris.drop(columns=\"Id\",inplace=True)"
   ]
  },
  {
   "cell_type": "code",
   "execution_count": 3,
   "id": "1ca8135b",
   "metadata": {},
   "outputs": [],
   "source": [
    "#features and labels\n",
    "X=iris.iloc[:,0:4].values\n",
    "y=iris.iloc[:,4].values\n",
    "\n",
    "#Train and Test split\n",
    "X_train,X_test,y_train,y_test=train_test_split(X,y,test_size=0.2,random_state=0)"
   ]
  },
  {
   "cell_type": "code",
   "execution_count": 4,
   "id": "33e20cdf",
   "metadata": {},
   "outputs": [],
   "source": [
    "# data information\n",
    "# X data contain 4d real points\n",
    "# X_train contain 120 points\n",
    "# y data contain 1d points (clusters for each of the 4d points)\n",
    "# there are 3 unique values in y corresponding to three unique clusters"
   ]
  },
  {
   "cell_type": "markdown",
   "id": "d14014cb",
   "metadata": {},
   "source": [
    "Write your Code below for KNN Classifier.<br>\n",
    "Use different values of K and test the accuracies."
   ]
  },
  {
   "cell_type": "code",
   "execution_count": 5,
   "id": "ec08067d",
   "metadata": {},
   "outputs": [],
   "source": [
    "def init_centroids(samples, n_clusters):\n",
    "    indices = np.linspace(0,len(samples),len(samples))\n",
    "    centroid_inds = np.random.choice(indices, n_clusters,replace=False)\n",
    "    centroids = []\n",
    "    for i in centroid_inds:\n",
    "        i = int(i)\n",
    "        centroids.append(samples[i])\n",
    "    centroids = np.array(centroids)\n",
    "    return centroids"
   ]
  },
  {
   "cell_type": "code",
   "execution_count": 6,
   "id": "c698cfeb",
   "metadata": {},
   "outputs": [],
   "source": [
    "def l2_dist(x1,x2):\n",
    "    dim = x1.shape[0]\n",
    "    l2_norm = np.linalg.norm((x1-x2),ord=2)\n",
    "    return l2_norm"
   ]
  },
  {
   "cell_type": "code",
   "execution_count": 7,
   "id": "92b7c803",
   "metadata": {},
   "outputs": [],
   "source": [
    "def cluster_means(clusters, n_clusters):\n",
    "    centroids = []\n",
    "    for i in clusters:\n",
    "        i = np.array(i)\n",
    "        centroids.append(np.mean(i, axis=0))\n",
    "    centroids = np.array(centroids)\n",
    "    return centroids\n"
   ]
  },
  {
   "cell_type": "code",
   "execution_count": 8,
   "id": "6ca8c19d",
   "metadata": {},
   "outputs": [],
   "source": [
    "def k_means(samples, n_clusters, max_iter):\n",
    "    centroids = init_centroids(samples,n_clusters)\n",
    "    \n",
    "    for epoch in range(max_iter):\n",
    "        clusters = [[] for i in range(n_clusters)]\n",
    "        clusters_y = [[] for i in range(n_clusters)]\n",
    "        for i in range(len(X_train)):\n",
    "            dist = []\n",
    "            for j in centroids:\n",
    "                dist.append(l2_dist(X_train[i],j))\n",
    "            clusters[dist.index(min(dist))].append(X_train[i])\n",
    "            clusters_y[dist.index(min(dist))].append(y_train[i])\n",
    "        centroids = cluster_means(clusters, n_clusters)\n",
    "    return centroids, clusters, clusters_y\n",
    "\n",
    "        "
   ]
  },
  {
   "cell_type": "code",
   "execution_count": 9,
   "id": "79aeb5e5",
   "metadata": {},
   "outputs": [],
   "source": [
    "def predict_cluster(samples_X, samples_y,centroids,n_clusters):\n",
    "    clusters = [[] for i in range(n_clusters)]\n",
    "    clusters_y = [[] for i in range(n_clusters)]\n",
    "    for i in range(len(samples_X)):\n",
    "        dist = []\n",
    "        for j in centroids:\n",
    "            dist.append(l2_dist(samples_X[i],j))\n",
    "        clusters[dist.index(min(dist))].append(samples_X[i])\n",
    "        clusters_y[dist.index(min(dist))].append(samples_y[i])\n",
    "    return clusters, clusters_y\n",
    "        "
   ]
  },
  {
   "cell_type": "code",
   "execution_count": 10,
   "id": "88e47554",
   "metadata": {},
   "outputs": [],
   "source": [
    "def reduce_dims(clusters):\n",
    "    points = []\n",
    "    for i in clusters:\n",
    "        for j in i:\n",
    "            points.append(j)\n",
    "    ind = 0\n",
    "    pca = PCA(n_components=2)\n",
    "    pca.fit(points)\n",
    "    points = pca.transform(points)\n",
    "    return points"
   ]
  },
  {
   "cell_type": "code",
   "execution_count": 11,
   "id": "87655bc5",
   "metadata": {},
   "outputs": [],
   "source": [
    "def plot_clusters(pts,clusters,clusters_y):\n",
    "    labels_pred = []\n",
    "    for ind,i in enumerate(clusters):\n",
    "        for j in i:\n",
    "            labels_pred.append(ind)    \n",
    "    labels_true = []\n",
    "    for ind,j in enumerate(clusters_y):\n",
    "        for i in j:\n",
    "            if i == 'Iris-versicolor':\n",
    "                labels_true.append(0)\n",
    "            if i == 'Iris-virginica':\n",
    "                labels_true.append(1)\n",
    "            if i == 'Iris-setosa':\n",
    "                labels_true.append(2)\n",
    "    rand_score = sklearn.metrics.rand_score(labels_true, labels_pred)\n",
    "    print(f\"Rand Index score for k = {k}: {round(rand_score,2)}\")    \n",
    "    return rand_score, labels_true, labels_pred\n"
   ]
  },
  {
   "cell_type": "code",
   "execution_count": 12,
   "id": "f62e5249",
   "metadata": {},
   "outputs": [
    {
     "name": "stdout",
     "output_type": "stream",
     "text": [
      "Rand Index score for k = 1: 0.33\n",
      "Rand Index score for k = 2: 0.76\n",
      "Rand Index score for k = 3: 0.87\n",
      "Rand Index score for k = 4: 0.71\n",
      "Rand Index score for k = 5: 0.81\n"
     ]
    },
    {
     "data": {
      "image/png": "[encoded data removed]",
      "text/plain": [
       "<Figure size 432x288 with 5 Axes>"
      ]
     },
     "metadata": {
      "needs_background": "light"
     },
     "output_type": "display_data"
    },
    {
     "name": "stdout",
     "output_type": "stream",
     "text": [
      "Best Score obtained for clustering with k = 3\n"
     ]
    }
   ],
   "source": [
    "k_vals = [1,2,3,4,5]\n",
    "rand_score_lis = []\n",
    "labels_true_lis = []\n",
    "labels_pred_lis = []\n",
    "centroids_lis = []\n",
    "for k in k_vals:\n",
    "    # fit the Model \n",
    "    centroids, clusters, clusters_y = k_means(X_train,k,20)\n",
    "    centroids_lis.append(centroids)\n",
    "    pts = reduce_dims(clusters)\n",
    "    rand_score, labels_true, labels_pred = plot_clusters(pts,clusters,clusters_y)\n",
    "    plt.subplot(3, 2, k)\n",
    "    plt.scatter(pts[:,0],pts[:,1], c=labels_pred, cmap=plt.cm.get_cmap('gist_rainbow', k))    \n",
    "    rand_score_lis.append(rand_score)\n",
    "    labels_true_lis.append(labels_true)\n",
    "    labels_pred_lis.append(labels_pred)\n",
    "plt.show()\n",
    "\n",
    "print(f\"Best Score obtained for clustering with k = {rand_score_lis.index(max(rand_score_lis)) + 1}\")"
   ]
  },
  {
   "cell_type": "code",
   "execution_count": 13,
   "id": "8c5ec3f7",
   "metadata": {},
   "outputs": [
    {
     "name": "stdout",
     "output_type": "stream",
     "text": [
      "Rand Index score for k = 1: 0.34\n",
      "Rand Index score for k = 2: 0.78\n",
      "Rand Index score for k = 3: 0.89\n",
      "Rand Index score for k = 4: 0.72\n",
      "Rand Index score for k = 5: 0.75\n"
     ]
    },
    {
     "data": {
      "image/png": "[encoded data removed]",
      "text/plain": [
       "<Figure size 432x288 with 5 Axes>"
      ]
     },
     "metadata": {
      "needs_background": "light"
     },
     "output_type": "display_data"
    },
    {
     "name": "stdout",
     "output_type": "stream",
     "text": [
      "Best Score obtained for clustering with k = 3\n"
     ]
    }
   ],
   "source": [
    "# Testing\n",
    "rand_score_lis = []\n",
    "for k in k_vals:\n",
    "    clusters_pred, clusters_pred_y = predict_cluster(X_test, y_test,centroids_lis[k-1],k)\n",
    "    pts = reduce_dims(clusters_pred)\n",
    "    rand_score, labels_true, labels_pred = plot_clusters(pts,clusters_pred,clusters_pred_y)\n",
    "    plt.subplot(3, 2, k)\n",
    "    plt.scatter(pts[:,0],pts[:,1], c=labels_pred, cmap=plt.cm.get_cmap('gist_rainbow', k))    \n",
    "    rand_score_lis.append(rand_score)\n",
    "plt.show()\n",
    "\n",
    "print(f\"Best Score obtained for clustering with k = {rand_score_lis.index(max(rand_score_lis)) + 1}\")\n",
    "    "
   ]
  },
  {
   "cell_type": "markdown",
   "id": "1c3ac0ca",
   "metadata": {},
   "source": [
    "### Questions\n",
    "\n",
    "1) What are the Advantages and Disadvantages of KNN algorithm?<br>\n",
    "2) What is the complexity of the KNN algorithm during Training and Testing?<br> \n",
    "3) Is euclidian distance the only distance metric used in KNN? \n",
    "4) what K value gave the best accuracy?"
   ]
  },
  {
   "cell_type": "markdown",
   "id": "a532b8cf",
   "metadata": {},
   "source": [
    "#### Answers\n",
    "##### Answer  1. \n",
    " - Advantages:\n",
    "  - Easy and straightforward implementation.\n",
    "  - No training period (lazy learning) learns only at the time of making predictions.\n",
    "  - New data can be added without affecting accuaracy of the algorithm\n",
    "  - No assumptions are made about the data.\n",
    " - Disadvantages:\n",
    "  - In large datasets, calculating distances between each data instance is very costly and hence it is unsuitable.\n",
    "  - Data in higher dimensions greatly increases the cost of calculating pairwise distances and hence it is unsuitable for higher dimensions.\n",
    "  - High sensitivity to noisy and missing data\n",
    "  - Requires Feature Scaling Data in all the dimension should be scaled (normalized and standardized) properly .\n",
    "\n",
    "##### Answer 2.\n",
    " - As explained earlier, KNN is a lazy learning algorithm and hence there is no Training Period. The time complexity of the kNN algorithm during testing period is O(N*d) where N is the total number of data-points in the data and d is dimensionality of the data. All distances will be computed for a new query point which is very time consuming.\n",
    " \n",
    "##### Answer 3. \n",
    " - Any distance metric can be used for KNN, it can be used for a variety of tasks and the distance metric can be chosen as per the task for example edit distance for checking similarity between string or minkowski distance, etc.\n",
    " \n",
    "##### Answer 4.\n",
    " - Best Clustering accuracy (we use rand score to check accuracy since it is the most suitable metric when true labels and predicted labels are both available) is obtained with K = 3, which means the true number of classes for this data set is 3. Sometimes, depending on initialisation values, k = 5 gives slightly better accuracy, however this is because of random initialisation and becuase the rand score is such that it checks the number of elements in the same class in the true set and compares it with number of labels which have the same true label and are in the same cluster, thus for higher values of k we obtain greater rand score."
   ]
  },
  {
   "cell_type": "markdown",
   "id": "47958869",
   "metadata": {},
   "source": []
  }
 ],
 "metadata": {
  "kernelspec": {
   "display_name": "Python 3 (ipykernel)",
   "language": "python",
   "name": "python3"
  },
  "language_info": {
   "codemirror_mode": {
    "name": "ipython",
    "version": 3
   },
   "file_extension": ".py",
   "mimetype": "text/x-python",
   "name": "python",
   "nbconvert_exporter": "python",
   "pygments_lexer": "ipython3",
   "version": "3.9.7"
  }
 },
 "nbformat": 4,
 "nbformat_minor": 5
}
